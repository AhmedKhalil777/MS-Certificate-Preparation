{
 "cells": [
  {
   "cell_type": "code",
   "execution_count": null,
   "metadata": {
    "dotnet_interactive": {
     "language": "pwsh"
    },
    "vscode": {
     "languageId": "dotnet-interactive.pwsh"
    }
   },
   "outputs": [
    {
     "name": "stdout",
     "output_type": "stream",
     "text": [
      "These templates matched your input: \r\n",
      "\r\n",
      "Template Name                                 Short Name           Language    Tags                      \r\n",
      "--------------------------------------------  -------------------  ----------  --------------------------\r\n",
      "ASP.NET Core Empty                            web                  [C#],F#     Web/Empty                 \r\n",
      "ASP.NET Core gRPC Service                     grpc                 [C#]        Web/gRPC                  \r\n",
      "ASP.NET Core Web API                          webapi               [C#],F#     Web/WebAPI                \r\n",
      "ASP.NET Core Web App                          webapp,razor         [C#]        Web/MVC/Razor Pages       \r\n",
      "ASP.NET Core Web App (Model-View-Controller)  mvc                  [C#],F#     Web/MVC                   \r\n",
      "ASP.NET Core with Angular                     angular              [C#]        Web/MVC/SPA               \r\n",
      "ASP.NET Core with React.js                    react                [C#]        Web/MVC/SPA               \r\n",
      "ASP.NET Core with React.js and Redux          reactredux           [C#]        Web/MVC/SPA               \r\n",
      "Blazor Server App                             blazorserver         [C#]        Web/Blazor                \r\n",
      "Blazor WebAssembly App                        blazorwasm           [C#]        Web/Blazor/WebAssembly/PWA\r\n",
      "Class Library                                 classlib             [C#],F#,VB  Common/Library            \r\n",
      "Console App                                   console              [C#],F#,VB  Common/Console            \r\n",
      "dotnet gitignore file                         gitignore                        Config                    \r\n",
      "Dotnet local tool manifest file               tool-manifest                    Config                    \r\n",
      "EditorConfig file                             editorconfig                     Config                    \r\n",
      "global.json file                              globaljson                       Config                    \r\n",
      "MSTest Test Project                           mstest               [C#],F#,VB  Test/MSTest               \r\n",
      "MVC ViewImports                               viewimports          [C#]        Web/ASP.NET               \r\n",
      "MVC ViewStart                                 viewstart            [C#]        Web/ASP.NET               \r\n",
      "NuGet Config                                  nugetconfig                      Config                    \r\n",
      "NUnit 3 Test Item                             nunit-test           [C#],F#,VB  Test/NUnit                \r\n",
      "NUnit 3 Test Project                          nunit                [C#],F#,VB  Test/NUnit                \r\n",
      "Protocol Buffer File                          proto                            Web/gRPC                  \r\n",
      "Razor Class Library                           razorclasslib        [C#]        Web/Razor/Library         \r\n",
      "Razor Component                               razorcomponent       [C#]        Web/ASP.NET               \r\n",
      "Razor Page                                    page                 [C#]        Web/ASP.NET               \r\n",
      "Solution File                                 sln                              Solution                  \r\n",
      "Web Config                                    webconfig                        Config                    \r\n",
      "Windows Forms App                             winforms             [C#],VB     Common/WinForms           \r\n",
      "Windows Forms Class Library                   winformslib          [C#],VB     Common/WinForms           \r\n",
      "Windows Forms Control Library                 winformscontrollib   [C#],VB     Common/WinForms           \r\n",
      "Worker Service                                worker               [C#],F#     Common/Worker/Web         \r\n",
      "WPF Application                               wpf                  [C#],VB     Common/WPF                \r\n",
      "WPF Class Library                             wpflib               [C#],VB     Common/WPF                \r\n",
      "WPF Custom Control Library                    wpfcustomcontrollib  [C#],VB     Common/WPF                \r\n",
      "WPF User Control Library                      wpfusercontrollib    [C#],VB     Common/WPF                \r\n",
      "xUnit Test Project                            xunit                [C#],F#,VB  Test/xUnit                \r\n",
      "\r\n"
     ]
    }
   ],
   "source": [
    "dotnet new webapp -o zoohub"
   ]
  },
  {
   "cell_type": "markdown",
   "metadata": {
    "dotnet_interactive": {
     "language": "pwsh"
    }
   },
   "source": [
    "# Working with Azure Devops\n",
    "- Open the Azure Devops website"
   ]
  }
 ],
 "metadata": {
  "kernelspec": {
   "display_name": ".NET (C#)",
   "language": "C#",
   "name": ".net-csharp"
  },
  "language_info": {
   "file_extension": ".cs",
   "mimetype": "text/x-csharp",
   "name": "C#",
   "pygments_lexer": "csharp",
   "version": "9.0"
  },
  "orig_nbformat": 4
 },
 "nbformat": 4,
 "nbformat_minor": 2
}
