{
 "cells": [
  {
   "cell_type": "markdown",
   "metadata": {
    "dotnet_interactive": {
     "language": "csharp"
    }
   },
   "source": [
    "# Web App Using Azure CLI\n",
    "\n",
    "## Steps\n",
    "- Create or use a resource group\n",
    "- Create app service plan  `az appservice plan create -n {name} --sku {sku} -g {resource group}`\n",
    "- Create the webapp `az webapp create --name {name} --plan {plan} --resource-group {resource group}`\n",
    "  - You can choose your runtime using `--runtime` option .\n",
    "- Browse the app  `az webapp browse -n {name} -g {resource group}`"
   ]
  },
  {
   "cell_type": "code",
   "execution_count": null,
   "metadata": {
    "dotnet_interactive": {
     "language": "pwsh"
    },
    "vscode": {
     "languageId": "dotnet-interactive.pwsh"
    }
   },
   "outputs": [
    {
     "name": "stdout",
     "output_type": "stream",
     "text": [
      "{\r\n",
      "  \"id\": \"/subscriptions/5f4ead95-973a-4342-b8b6-9509fd211c80/resourceGroups/webappgroupdemo\",\r\n",
      "  \"location\": \"westeurope\",\r\n",
      "  \"managedBy\": null,\r\n",
      "  \"name\": \"webappgroupdemo\",\r\n",
      "  \"properties\": {\r\n",
      "    \"provisioningState\": \"Succeeded\"\r\n",
      "  },\r\n",
      "  \"tags\": null,\r\n",
      "  \"type\": \"Microsoft.Resources/resourceGroups\"\r\n",
      "}\r\n"
     ]
    }
   ],
   "source": [
    "az group create -n webappgroupdemo -l westeurope"
   ]
  },
  {
   "cell_type": "markdown",
   "metadata": {},
   "source": [
    "![](20220829222849.png)  "
   ]
  },
  {
   "cell_type": "code",
   "execution_count": null,
   "metadata": {
    "dotnet_interactive": {
     "language": "pwsh"
    },
    "vscode": {
     "languageId": "dotnet-interactive.pwsh"
    }
   },
   "outputs": [
    {
     "name": "stdout",
     "output_type": "stream",
     "text": [
      "WARNING: Resource provider 'Microsoft.Web' used by this operation is not registered. We are registering for you.\r\n",
      "WARNING: Registration succeeded.\r\n",
      "{\r\n",
      "  \"elasticScaleEnabled\": false,\r\n",
      "  \"extendedLocation\": null,\r\n",
      "  \"freeOfferExpirationTime\": null,\r\n",
      "  \"geoRegion\": \"West Europe\",\r\n",
      "  \"hostingEnvironmentProfile\": null,\r\n",
      "  \"hyperV\": false,\r\n",
      "  \"id\": \"/subscriptions/5f4ead95-973a-4342-b8b6-9509fd211c80/resourceGroups/webappgroupdemo/providers/Microsoft.Web/serverfarms/webappplan1\",\r\n",
      "  \"isSpot\": false,\r\n",
      "  \"isXenon\": false,\r\n",
      "  \"kind\": \"app\",\r\n",
      "  \"kubeEnvironmentProfile\": null,\r\n",
      "  \"location\": \"westeurope\",\r\n",
      "  \"maximumElasticWorkerCount\": 1,\r\n",
      "  \"maximumNumberOfWorkers\": 0,\r\n",
      "  \"name\": \"webappplan1\",\r\n",
      "  \"numberOfSites\": 0,\r\n",
      "  \"numberOfWorkers\": 0,\r\n",
      "  \"perSiteScaling\": false,\r\n",
      "  \"provisioningState\": \"Succeeded\",\r\n",
      "  \"reserved\": false,\r\n",
      "  \"resourceGroup\": \"webappgroupdemo\",\r\n",
      "  \"sku\": {\r\n",
      "    \"capabilities\": null,\r\n",
      "    \"capacity\": 0,\r\n",
      "    \"family\": \"F\",\r\n",
      "    \"locations\": null,\r\n",
      "    \"name\": \"F1\",\r\n",
      "    \"size\": \"F1\",\r\n",
      "    \"skuCapacity\": null,\r\n",
      "    \"tier\": \"Free\"\r\n",
      "  },\r\n",
      "  \"spotExpirationTime\": null,\r\n",
      "  \"status\": \"Ready\",\r\n",
      "  \"subscription\": \"5f4ead95-973a-4342-b8b6-9509fd211c80\",\r\n",
      "  \"tags\": null,\r\n",
      "  \"targetWorkerCount\": 0,\r\n",
      "  \"targetWorkerSizeId\": 0,\r\n",
      "  \"type\": \"Microsoft.Web/serverfarms\",\r\n",
      "  \"workerTierName\": null,\r\n",
      "  \"zoneRedundant\": false\r\n",
      "}\r\n"
     ]
    }
   ],
   "source": [
    "az appservice plan create -n webappplan1 --sku Free -g webappgroupdemo"
   ]
  },
  {
   "cell_type": "code",
   "execution_count": null,
   "metadata": {
    "dotnet_interactive": {
     "language": "pwsh"
    },
    "vscode": {
     "languageId": "dotnet-interactive.pwsh"
    }
   },
   "outputs": [
    {
     "name": "stdout",
     "output_type": "stream",
     "text": [
      "{\r\n",
      "  \"linux\": [\r\n",
      "    \"DOTNETCORE:7.0\",\r\n",
      "    \"DOTNETCORE:6.0\",\r\n",
      "    \"DOTNETCORE:3.1\",\r\n",
      "    \"NODE:16-lts\",\r\n",
      "    \"NODE:14-lts\",\r\n",
      "    \"PYTHON:3.9\",\r\n",
      "    \"PYTHON:3.8\",\r\n",
      "    \"PYTHON:3.7\",\r\n",
      "    \"PHP:8.0\",\r\n",
      "    \"PHP:7.4\",\r\n",
      "    \"RUBY:2.7\",\r\n",
      "    \"JAVA:17-java17\",\r\n",
      "    \"JAVA:11-java11\",\r\n",
      "    \"JAVA:8-jre8\",\r\n",
      "    \"JBOSSEAP:7-java11\",\r\n",
      "    \"JBOSSEAP:7-java8\",\r\n",
      "    \"TOMCAT:10.0-java17\",\r\n",
      "    \"TOMCAT:10.0-java11\",\r\n",
      "    \"TOMCAT:10.0-jre8\",\r\n",
      "    \"TOMCAT:9.0-java17\",\r\n",
      "    \"TOMCAT:9.0-java11\",\r\n",
      "    \"TOMCAT:9.0-jre8\",\r\n",
      "    \"TOMCAT:8.5-java11\",\r\n",
      "    \"TOMCAT:8.5-jre8\"\r\n",
      "  ],\r\n",
      "  \"windows\": [\r\n",
      "    \"dotnet:7\",\r\n",
      "    \"dotnet:6\",\r\n",
      "    \"DOTNETCORE:3.1\",\r\n",
      "    \"ASPNET:V4.8\",\r\n",
      "    \"ASPNET:V3.5\",\r\n",
      "    \"NODE:16LTS\",\r\n",
      "    \"NODE:14LTS\",\r\n",
      "    \"PHP:7.4\",\r\n",
      "    \"java:1.8:Java SE:8\",\r\n",
      "    \"java:11:Java SE:11\",\r\n",
      "    \"java:17:Java SE:17\",\r\n",
      "    \"java:1.8:TOMCAT:10.0\",\r\n",
      "    \"java:11:TOMCAT:10.0\",\r\n",
      "    \"java:17:TOMCAT:10.0\",\r\n",
      "    \"java:1.8:TOMCAT:9.0\",\r\n",
      "    \"java:11:TOMCAT:9.0\",\r\n",
      "    \"java:17:TOMCAT:9.0\",\r\n",
      "    \"java:1.8:TOMCAT:8.5\",\r\n",
      "    \"java:11:TOMCAT:8.5\",\r\n",
      "    \"java:17:TOMCAT:8.5\"\r\n",
      "  ]\r\n",
      "}\r\n"
     ]
    }
   ],
   "source": [
    "\n",
    "az webapp list-runtimes"
   ]
  },
  {
   "cell_type": "code",
   "execution_count": null,
   "metadata": {
    "dotnet_interactive": {
     "language": "pwsh"
    },
    "vscode": {
     "languageId": "dotnet-interactive.pwsh"
    }
   },
   "outputs": [
    {
     "name": "stdout",
     "output_type": "stream",
     "text": [
      "{\r\n",
      "  \"availabilityState\": \"Normal\",\r\n",
      "  \"clientAffinityEnabled\": true,\r\n",
      "  \"clientCertEnabled\": false,\r\n",
      "  \"clientCertExclusionPaths\": null,\r\n",
      "  \"clientCertMode\": \"Required\",\r\n",
      "  \"cloningInfo\": null,\r\n",
      "  \"containerSize\": 0,\r\n",
      "  \"customDomainVerificationId\": \"365039E62AC7C4DD3BAD2D0217976256C8A8282568E1854DB883EDDE40284D14\",\r\n",
      "  \"dailyMemoryTimeQuota\": 0,\r\n",
      "  \"defaultHostName\": \"zoohub1.azurewebsites.net\",\r\n",
      "  \"enabled\": true,\r\n",
      "  \"enabledHostNames\": [\r\n",
      "    \"zoohub1.azurewebsites.net\",\r\n",
      "    \"zoohub1.scm.azurewebsites.net\"\r\n",
      "  ],\r\n",
      "  \"extendedLocation\": null,\r\n",
      "  \"ftpPublishingUrl\": \"ftp://waws-prod-am2-591.ftp.azurewebsites.windows.net/site/wwwroot\",\r\n",
      "  \"hostNameSslStates\": [\r\n",
      "    {\r\n",
      "      \"hostType\": \"Standard\",\r\n",
      "      \"ipBasedSslResult\": null,\r\n",
      "      \"ipBasedSslState\": \"NotConfigured\",\r\n",
      "      \"name\": \"zoohub1.azurewebsites.net\",\r\n",
      "      \"sslState\": \"Disabled\",\r\n",
      "      \"thumbprint\": null,\r\n",
      "      \"toUpdate\": null,\r\n",
      "      \"toUpdateIpBasedSsl\": null,\r\n",
      "      \"virtualIp\": null\r\n",
      "    },\r\n",
      "    {\r\n",
      "      \"hostType\": \"Repository\",\r\n",
      "      \"ipBasedSslResult\": null,\r\n",
      "      \"ipBasedSslState\": \"NotConfigured\",\r\n",
      "      \"name\": \"zoohub1.scm.azurewebsites.net\",\r\n",
      "      \"sslState\": \"Disabled\",\r\n",
      "      \"thumbprint\": null,\r\n",
      "      \"toUpdate\": null,\r\n",
      "      \"toUpdateIpBasedSsl\": null,\r\n",
      "      \"virtualIp\": null\r\n",
      "    }\r\n",
      "  ],\r\n",
      "  \"hostNames\": [\r\n",
      "    \"zoohub1.azurewebsites.net\"\r\n",
      "  ],\r\n",
      "  \"hostNamesDisabled\": false,\r\n",
      "  \"hostingEnvironmentProfile\": null,\r\n",
      "  \"httpsOnly\": false,\r\n",
      "  \"hyperV\": false,\r\n",
      "  \"id\": \"/subscriptions/5f4ead95-973a-4342-b8b6-9509fd211c80/resourceGroups/webappgroupdemo/providers/Microsoft.Web/sites/zoohub1\",\r\n",
      "  \"identity\": null,\r\n",
      "  \"inProgressOperationId\": null,\r\n",
      "  \"isDefaultContainer\": null,\r\n",
      "  \"isXenon\": false,\r\n",
      "  \"keyVaultReferenceIdentity\": \"SystemAssigned\",\r\n",
      "  \"kind\": \"app\",\r\n",
      "  \"lastModifiedTimeUtc\": \"2022-08-29T21:05:29.540000\",\r\n",
      "  \"location\": \"West Europe\",\r\n",
      "  \"maxNumberOfWorkers\": null,\r\n",
      "  \"name\": \"zoohub1\",\r\n",
      "  \"outboundIpAddresses\": \"20.71.68.84,20.71.68.92,20.71.68.106,20.71.68.138,20.71.68.231,20.71.69.31,20.105.216.15\",\r\n",
      "  \"possibleOutboundIpAddresses\": \"20.71.68.84,20.71.68.92,20.71.68.106,20.71.68.138,20.71.68.231,20.71.69.31,20.71.69.155,20.71.67.116,20.71.67.166,20.71.71.234,20.73.144.185,20.73.144.216,20.73.145.14,20.73.145.43,20.73.146.248,20.73.147.92,20.73.147.168,20.73.149.170,20.73.150.124,20.73.151.127,20.73.151.251,20.73.216.11,20.73.216.41,20.73.216.67,20.73.217.29,20.73.218.127,20.73.218.134,20.73.218.155,20.71.65.78,20.73.218.230,20.105.216.15\",\r\n",
      "  \"publicNetworkAccess\": null,\r\n",
      "  \"redundancyMode\": \"None\",\r\n",
      "  \"repositorySiteName\": \"zoohub1\",\r\n",
      "  \"reserved\": false,\r\n",
      "  \"resourceGroup\": \"webappgroupdemo\",\r\n",
      "  \"scmSiteAlsoStopped\": false,\r\n",
      "  \"serverFarmId\": \"/subscriptions/5f4ead95-973a-4342-b8b6-9509fd211c80/resourceGroups/webappgroupdemo/providers/Microsoft.Web/serverfarms/webappplan1\",\r\n",
      "  \"siteConfig\": {\r\n",
      "    \"acrUseManagedIdentityCreds\": false,\r\n",
      "    \"acrUserManagedIdentityId\": null,\r\n",
      "    \"alwaysOn\": false,\r\n",
      "    \"antivirusScanEnabled\": null,\r\n",
      "    \"apiDefinition\": null,\r\n",
      "    \"apiManagementConfig\": null,\r\n",
      "    \"appCommandLine\": null,\r\n",
      "    \"appSettings\": null,\r\n",
      "    \"autoHealEnabled\": null,\r\n",
      "    \"autoHealRules\": null,\r\n",
      "    \"autoSwapSlotName\": null,\r\n",
      "    \"azureMonitorLogCategories\": null,\r\n",
      "    \"azureStorageAccounts\": null,\r\n",
      "    \"connectionStrings\": null,\r\n",
      "    \"cors\": null,\r\n",
      "    \"customAppPoolIdentityAdminState\": null,\r\n",
      "    \"customAppPoolIdentityTenantState\": null,\r\n",
      "    \"defaultDocuments\": null,\r\n",
      "    \"detailedErrorLoggingEnabled\": null,\r\n",
      "    \"documentRoot\": null,\r\n",
      "    \"elasticWebAppScaleLimit\": 0,\r\n",
      "    \"experiments\": null,\r\n",
      "    \"fileChangeAuditEnabled\": null,\r\n",
      "    \"ftpsState\": null,\r\n",
      "    \"functionAppScaleLimit\": null,\r\n",
      "    \"functionsRuntimeScaleMonitoringEnabled\": null,\r\n",
      "    \"handlerMappings\": null,\r\n",
      "    \"healthCheckPath\": null,\r\n",
      "    \"http20Enabled\": false,\r\n",
      "    \"http20ProxyFlag\": null,\r\n",
      "    \"httpLoggingEnabled\": null,\r\n",
      "    \"ipSecurityRestrictions\": [\r\n",
      "      {\r\n",
      "        \"action\": \"Allow\",\r\n",
      "        \"description\": \"Allow all access\",\r\n",
      "        \"headers\": null,\r\n",
      "        \"ipAddress\": \"Any\",\r\n",
      "        \"name\": \"Allow all\",\r\n",
      "        \"priority\": 2147483647,\r\n",
      "        \"subnetMask\": null,\r\n",
      "        \"subnetTrafficTag\": null,\r\n",
      "        \"tag\": null,\r\n",
      "        \"vnetSubnetResourceId\": null,\r\n",
      "        \"vnetTrafficTag\": null\r\n",
      "      }\r\n",
      "    ],\r\n",
      "    \"ipSecurityRestrictionsDefaultAction\": null,\r\n",
      "    \"javaContainer\": null,\r\n",
      "    \"javaContainerVersion\": null,\r\n",
      "    \"javaVersion\": null,\r\n",
      "    \"keyVaultReferenceIdentity\": null,\r\n",
      "    \"limits\": null,\r\n",
      "    \"linuxFxVersion\": \"\",\r\n",
      "    \"loadBalancing\": null,\r\n",
      "    \"localMySqlEnabled\": null,\r\n",
      "    \"logsDirectorySizeLimit\": null,\r\n",
      "    \"machineKey\": null,\r\n",
      "    \"managedPipelineMode\": null,\r\n",
      "    \"managedServiceIdentityId\": null,\r\n",
      "    \"metadata\": null,\r\n",
      "    \"minTlsCipherSuite\": null,\r\n",
      "    \"minTlsVersion\": null,\r\n",
      "    \"minimumElasticInstanceCount\": 0,\r\n",
      "    \"netFrameworkVersion\": null,\r\n",
      "    \"nodeVersion\": null,\r\n",
      "    \"numberOfWorkers\": 1,\r\n",
      "    \"phpVersion\": null,\r\n",
      "    \"powerShellVersion\": null,\r\n",
      "    \"preWarmedInstanceCount\": null,\r\n",
      "    \"publicNetworkAccess\": null,\r\n",
      "    \"publishingPassword\": null,\r\n",
      "    \"publishingUsername\": null,\r\n",
      "    \"push\": null,\r\n",
      "    \"pythonVersion\": null,\r\n",
      "    \"remoteDebuggingEnabled\": null,\r\n",
      "    \"remoteDebuggingVersion\": null,\r\n",
      "    \"requestTracingEnabled\": null,\r\n",
      "    \"requestTracingExpirationTime\": null,\r\n",
      "    \"routingRules\": null,\r\n",
      "    \"runtimeADUser\": null,\r\n",
      "    \"runtimeADUserPassword\": null,\r\n",
      "    \"scmIpSecurityRestrictions\": [\r\n",
      "      {\r\n",
      "        \"action\": \"Allow\",\r\n",
      "        \"description\": \"Allow all access\",\r\n",
      "        \"headers\": null,\r\n",
      "        \"ipAddress\": \"Any\",\r\n",
      "        \"name\": \"Allow all\",\r\n",
      "        \"priority\": 2147483647,\r\n",
      "        \"subnetMask\": null,\r\n",
      "        \"subnetTrafficTag\": null,\r\n",
      "        \"tag\": null,\r\n",
      "        \"vnetSubnetResourceId\": null,\r\n",
      "        \"vnetTrafficTag\": null\r\n",
      "      }\r\n",
      "    ],\r\n",
      "    \"scmIpSecurityRestrictionsDefaultAction\": null,\r\n",
      "    \"scmIpSecurityRestrictionsUseMain\": null,\r\n",
      "    \"scmMinTlsVersion\": null,\r\n",
      "    \"scmType\": null,\r\n",
      "    \"sitePort\": null,\r\n",
      "    \"storageType\": null,\r\n",
      "    \"supportedTlsCipherSuites\": null,\r\n",
      "    \"tracingOptions\": null,\r\n",
      "    \"use32BitWorkerProcess\": null,\r\n",
      "    \"virtualApplications\": null,\r\n",
      "    \"vnetName\": null,\r\n",
      "    \"vnetPrivatePortsCount\": null,\r\n",
      "    \"vnetRouteAllEnabled\": null,\r\n",
      "    \"webSocketsEnabled\": null,\r\n",
      "    \"websiteTimeZone\": null,\r\n",
      "    \"winAuthAdminState\": null,\r\n",
      "    \"winAuthTenantState\": null,\r\n",
      "    \"windowsFxVersion\": null,\r\n",
      "    \"xManagedServiceIdentityId\": null\r\n",
      "  },\r\n",
      "  \"slotSwapStatus\": null,\r\n",
      "  \"state\": \"Running\",\r\n",
      "  \"storageAccountRequired\": false,\r\n",
      "  \"suspendedTill\": null,\r\n",
      "  \"tags\": null,\r\n",
      "  \"targetSwapSlot\": null,\r\n",
      "  \"trafficManagerHostNames\": null,\r\n",
      "  \"type\": \"Microsoft.Web/sites\",\r\n",
      "  \"usageState\": \"Normal\",\r\n",
      "  \"virtualNetworkSubnetId\": null,\r\n",
      "  \"vnetContentShareEnabled\": false,\r\n",
      "  \"vnetImagePullEnabled\": false,\r\n",
      "  \"vnetRouteAllEnabled\": false\r\n",
      "}\r\n"
     ]
    }
   ],
   "source": [
    "az webapp create --name zoohub1 --resource-group webappgroupdemo --plan webappplan1 --runtime \"dotnet:6\""
   ]
  },
  {
   "cell_type": "markdown",
   "metadata": {},
   "source": [
    "- Congrats we create a webapp using the cli `zoohub1.azurewebsites.net`\n",
    "![](20220829230735.png)  \n",
    "\n",
    "![](20220829231241.png)  \n"
   ]
  },
  {
   "cell_type": "code",
   "execution_count": null,
   "metadata": {
    "dotnet_interactive": {
     "language": "pwsh"
    },
    "vscode": {
     "languageId": "dotnet-interactive.pwsh"
    }
   },
   "outputs": [],
   "source": [
    "az webapp browse -n zoohub1 -g webappgroupdemo"
   ]
  }
 ],
 "metadata": {
  "kernelspec": {
   "display_name": ".NET (C#)",
   "language": "C#",
   "name": ".net-csharp"
  },
  "language_info": {
   "file_extension": ".cs",
   "mimetype": "text/x-csharp",
   "name": "C#",
   "pygments_lexer": "csharp",
   "version": "9.0"
  },
  "orig_nbformat": 4
 },
 "nbformat": 4,
 "nbformat_minor": 2
}
