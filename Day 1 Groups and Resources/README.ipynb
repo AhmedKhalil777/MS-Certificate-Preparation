{
 "cells": [
  {
   "cell_type": "code",
   "execution_count": null,
   "metadata": {
    "dotnet_interactive": {
     "language": "pwsh"
    },
    "vscode": {
     "languageId": "dotnet-interactive.pwsh"
    }
   },
   "outputs": [],
   "source": [
    "az login"
   ]
  },
  {
   "cell_type": "markdown",
   "metadata": {},
   "source": [
    "# Create a resource group \n",
    "\n",
    "`az group create`\n",
    "## options \n",
    "|option| Usage| Required|\n",
    "|:--:|:---|:-- |\n",
    "| --name or -n or --resource-group or -g| the name of resource group|Yes|\n",
    "|--location or -l| any of resource created will be deployed in that location|Yes|\n",
    "|--managed-by|The ID of the resource that manages this resource group.|No|\n",
    "|--tags|Space-separated tags: key[=value] [key[=value] ...]. Use \"\" to clear existing tags.|No|\n"
   ]
  },
  {
   "cell_type": "code",
   "execution_count": null,
   "metadata": {
    "dotnet_interactive": {
     "language": "pwsh"
    },
    "vscode": {
     "languageId": "dotnet-interactive.pwsh"
    }
   },
   "outputs": [],
   "source": [
    "az group create --name ahmeddemo1 --location northeurope"
   ]
  },
  {
   "cell_type": "markdown",
   "metadata": {},
   "source": [
    " # Create a storage account for a group\n",
    "\n",
    "`az storage account create`\n",
    "## options \n",
    "|option| Usage| Required|\n",
    "|:--:|:---|:-- |\n",
    "|--name | name of storage account|Yes|\n",
    "|--resource-group| name of resource group that storage account works on|\n",
    "\n",
    " "
   ]
  },
  {
   "cell_type": "code",
   "execution_count": null,
   "metadata": {
    "dotnet_interactive": {
     "language": "pwsh"
    },
    "vscode": {
     "languageId": "dotnet-interactive.pwsh"
    }
   },
   "outputs": [
    {
     "name": "stdout",
     "output_type": "stream",
     "text": [
      "{\r\n",
      "  \"accessTier\": \"Hot\",\r\n",
      "  \"allowBlobPublicAccess\": true,\r\n",
      "  \"allowCrossTenantReplication\": null,\r\n",
      "  \"allowSharedKeyAccess\": null,\r\n",
      "  \"allowedCopyScope\": null,\r\n",
      "  \"azureFilesIdentityBasedAuthentication\": null,\r\n",
      "  \"blobRestoreStatus\": null,\r\n",
      "  \"creationTime\": \"2022-08-29T09:47:49.491107+00:00\",\r\n",
      "  \"customDomain\": null,\r\n",
      "  \"defaultToOAuthAuthentication\": null,\r\n",
      "  \"dnsEndpointType\": null,\r\n",
      "  \"enableHttpsTrafficOnly\": true,\r\n",
      "  \"enableNfsV3\": null,\r\n",
      "  \"encryption\": {\r\n",
      "    \"encryptionIdentity\": null,\r\n",
      "    \"keySource\": \"Microsoft.Storage\",\r\n",
      "    \"keyVaultProperties\": null,\r\n",
      "    \"requireInfrastructureEncryption\": null,\r\n",
      "    \"services\": {\r\n",
      "      \"blob\": {\r\n",
      "        \"enabled\": true,\r\n",
      "        \"keyType\": \"Account\",\r\n",
      "        \"lastEnabledTime\": \"2022-08-29T09:47:49.959863+00:00\"\r\n",
      "      },\r\n",
      "      \"file\": {\r\n",
      "        \"enabled\": true,\r\n",
      "        \"keyType\": \"Account\",\r\n",
      "        \"lastEnabledTime\": \"2022-08-29T09:47:49.959863+00:00\"\r\n",
      "      },\r\n",
      "      \"queue\": null,\r\n",
      "      \"table\": null\r\n",
      "    }\r\n",
      "  },\r\n",
      "  \"extendedLocation\": null,\r\n",
      "  \"failoverInProgress\": null,\r\n",
      "  \"geoReplicationStats\": null,\r\n",
      "  \"id\": \"/subscriptions/5f4ead95-973a-4342-b8b6-9509fd211c80/resourceGroups/ahmeddemo1/providers/Microsoft.Storage/storageAccounts/ahmeddemostorageaccount1\",\r\n",
      "  \"identity\": null,\r\n",
      "  \"immutableStorageWithVersioning\": null,\r\n",
      "  \"isHnsEnabled\": null,\r\n",
      "  \"isLocalUserEnabled\": null,\r\n",
      "  \"isSftpEnabled\": null,\r\n",
      "  \"keyCreationTime\": {\r\n",
      "    \"key1\": \"2022-08-29T09:47:49.600492+00:00\",\r\n",
      "    \"key2\": \"2022-08-29T09:47:49.600492+00:00\"\r\n",
      "  },\r\n",
      "  \"keyPolicy\": null,\r\n",
      "  \"kind\": \"StorageV2\",\r\n",
      "  \"largeFileSharesState\": null,\r\n",
      "  \"lastGeoFailoverTime\": null,\r\n",
      "  \"location\": \"northeurope\",\r\n",
      "  \"minimumTlsVersion\": \"TLS1_0\",\r\n",
      "  \"name\": \"ahmeddemostorageaccount1\",\r\n",
      "  \"networkRuleSet\": {\r\n",
      "    \"bypass\": \"AzureServices\",\r\n",
      "    \"defaultAction\": \"Allow\",\r\n",
      "    \"ipRules\": [],\r\n",
      "    \"resourceAccessRules\": null,\r\n",
      "    \"virtualNetworkRules\": []\r\n",
      "  },\r\n",
      "  \"primaryEndpoints\": {\r\n",
      "    \"blob\": \"https://ahmeddemostorageaccount1.blob.core.windows.net/\",\r\n",
      "    \"dfs\": \"https://ahmeddemostorageaccount1.dfs.core.windows.net/\",\r\n",
      "    \"file\": \"https://ahmeddemostorageaccount1.file.core.windows.net/\",\r\n",
      "    \"internetEndpoints\": null,\r\n",
      "    \"microsoftEndpoints\": null,\r\n",
      "    \"queue\": \"https://ahmeddemostorageaccount1.queue.core.windows.net/\",\r\n",
      "    \"table\": \"https://ahmeddemostorageaccount1.table.core.windows.net/\",\r\n",
      "    \"web\": \"https://ahmeddemostorageaccount1.z16.web.core.windows.net/\"\r\n",
      "  },\r\n",
      "  \"primaryLocation\": \"northeurope\",\r\n",
      "  \"privateEndpointConnections\": [],\r\n",
      "  \"provisioningState\": \"Succeeded\",\r\n",
      "  \"publicNetworkAccess\": null,\r\n",
      "  \"resourceGroup\": \"ahmeddemo1\",\r\n",
      "  \"routingPreference\": null,\r\n",
      "  \"sasPolicy\": null,\r\n",
      "  \"secondaryEndpoints\": {\r\n",
      "    \"blob\": \"https://ahmeddemostorageaccount1-secondary.blob.core.windows.net/\",\r\n",
      "    \"dfs\": \"https://ahmeddemostorageaccount1-secondary.dfs.core.windows.net/\",\r\n",
      "    \"file\": null,\r\n",
      "    \"internetEndpoints\": null,\r\n",
      "    \"microsoftEndpoints\": null,\r\n",
      "    \"queue\": \"https://ahmeddemostorageaccount1-secondary.queue.core.windows.net/\",\r\n",
      "    \"table\": \"https://ahmeddemostorageaccount1-secondary.table.core.windows.net/\",\r\n",
      "    \"web\": \"https://ahmeddemostorageaccount1-secondary.z16.web.core.windows.net/\"\r\n",
      "  },\r\n",
      "  \"secondaryLocation\": \"westeurope\",\r\n",
      "  \"sku\": {\r\n",
      "    \"name\": \"Standard_RAGRS\",\r\n",
      "    \"tier\": \"Standard\"\r\n",
      "  },\r\n",
      "  \"statusOfPrimary\": \"available\",\r\n",
      "  \"statusOfSecondary\": \"available\",\r\n",
      "  \"storageAccountSkuConversionStatus\": null,\r\n",
      "  \"tags\": {},\r\n",
      "  \"type\": \"Microsoft.Storage/storageAccounts\"\r\n",
      "}\r\n"
     ]
    }
   ],
   "source": [
    "az storage account create --name ahmeddemostorageaccount1 --resource-group ahmeddemo1"
   ]
  },
  {
   "cell_type": "markdown",
   "metadata": {},
   "source": [
    "# Create a container\n",
    "To manage Azure Blob Storage\n",
    "`az storage container create --account-name ahmeddemostorageaccount1 --name container1`\n"
   ]
  },
  {
   "cell_type": "code",
   "execution_count": null,
   "metadata": {
    "dotnet_interactive": {
     "language": "pwsh"
    },
    "vscode": {
     "languageId": "dotnet-interactive.pwsh"
    }
   },
   "outputs": [
    {
     "name": "stdout",
     "output_type": "stream",
     "text": [
      "WARNING: \r\n",
      "There are no credentials provided in your command and environment, we will query for account key for your storage account.\r\n",
      "It is recommended to provide --connection-string, --account-key or --sas-token in your command as credentials.\r\n",
      "\r\n",
      "You also can add `--auth-mode login` in your command to use Azure Active Directory (Azure AD) for authorization if your login account is assigned required RBAC roles.\r\n",
      "For more information about RBAC roles in storage, visit https://docs.microsoft.com/azure/storage/common/storage-auth-aad-rbac-cli.\r\n",
      "\r\n",
      "In addition, setting the corresponding environment variables can avoid inputting credentials in your command. Please use --help to get more information about environment variable usage.\r\n",
      "{\r\n",
      "  \"created\": true\r\n",
      "}\r\n"
     ]
    }
   ],
   "source": [
    "az storage container create --account-name ahmeddemostorageaccount1 --name container1"
   ]
  },
  {
   "cell_type": "code",
   "execution_count": null,
   "metadata": {
    "dotnet_interactive": {
     "language": "pwsh"
    },
    "vscode": {
     "languageId": "dotnet-interactive.pwsh"
    }
   },
   "outputs": [],
   "source": []
  }
 ],
 "metadata": {
  "kernelspec": {
   "display_name": ".NET (C#)",
   "language": "C#",
   "name": ".net-csharp"
  },
  "language_info": {
   "file_extension": ".cs",
   "mimetype": "text/x-csharp",
   "name": "C#",
   "pygments_lexer": "csharp",
   "version": "9.0"
  },
  "orig_nbformat": 4,
  "vscode": {
   "interpreter": {
    "hash": "673545b9001a690126bbe65af27bd692adb719c95498d927aa46f7cb59137b0a"
   }
  }
 },
 "nbformat": 4,
 "nbformat_minor": 2
}
